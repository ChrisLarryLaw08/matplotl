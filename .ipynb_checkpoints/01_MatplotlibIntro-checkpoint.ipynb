{
 "cells": [
  {
   "cell_type": "markdown",
   "metadata": {},
   "source": [
    "## Matplotlib Introduction\n"
   ]
  },
  {
   "cell_type": "markdown",
   "metadata": {},
   "source": [
    "## `matplotlib` is the most widely used scientific plotting library in Python.\n",
    "#### Main website, with documentation, tutorials, and examples: https://matplotlib.org \n",
    "***\n",
    "<img src=\"images/MatplotlibWebsite.png\" width=\"400\" height=\"300\"/>"
   ]
  },
  {
   "cell_type": "markdown",
   "metadata": {},
   "source": [
    "***\n",
    "## As with the rest of the Python geoscience software ecosystem that we will use in this course, Matplotlib is free- and open-source software, and it is developed via Github!\n",
    "### https://github.com/matplotlib/matplotlib\n",
    "***\n",
    "<img src=\"images/MPLGithub.png\" width=\"400\" height=\"300\">"
   ]
  },
  {
   "cell_type": "markdown",
   "metadata": {},
   "source": [
    "### Matplotlib allows you to create publication- and website-quality graphics\n",
    "#### E.g.: http://www.atmos.albany.edu/student/mbartolini/python_gallery.php (with links to Massey's Github repositories!)"
   ]
  },
  {
   "cell_type": "markdown",
   "metadata": {},
   "source": [
    "### Let's start making some simple plots with Matplotlib!\n",
    "- We commonly use one of its sub-libraries, `matplotlib.pyplot`\n",
    "- We typically import this sub-library and reference it as `plt`:"
   ]
  },
  {
   "cell_type": "code",
   "execution_count": null,
   "metadata": {},
   "outputs": [],
   "source": [
    "import matplotlib.pyplot as plt"
   ]
  },
  {
   "cell_type": "markdown",
   "metadata": {},
   "source": [
    "- The Jupyter Notebook will render plots *inline* (i.e., in the same cell where we make the plot) using a \"magic\" command:"
   ]
  },
  {
   "cell_type": "code",
   "execution_count": null,
   "metadata": {},
   "outputs": [],
   "source": [
    "%matplotlib inline"
   ]
  },
  {
   "cell_type": "markdown",
   "metadata": {},
   "source": [
    "- Simple plots are then (fairly) simple to create.\n",
    "- Let's first create a simple position (y-axis) vs. time (x-axis) plot."
   ]
  },
  {
   "cell_type": "code",
   "execution_count": null,
   "metadata": {},
   "outputs": [],
   "source": [
    "time = [0, 1, 2, 3]\n",
    "position = [0, 100, 200, 300]"
   ]
  },
  {
   "cell_type": "markdown",
   "metadata": {},
   "source": [
    "## Plot a simple line graph. The first line below creates a figure and plots `position` versus `time`. The next two lines label the x- and y-axes."
   ]
  },
  {
   "cell_type": "code",
   "execution_count": null,
   "metadata": {},
   "outputs": [],
   "source": [
    "plt.plot (time, position)\n",
    "plt.xlabel ('Time (hr)')\n",
    "plt.ylabel ('Position (km)')"
   ]
  },
  {
   "cell_type": "markdown",
   "metadata": {},
   "source": [
    "### We can also just pass in a single array of data. `matplotlib` will automatically assign an x-axis to go along with it."
   ]
  },
  {
   "cell_type": "code",
   "execution_count": null,
   "metadata": {},
   "outputs": [],
   "source": [
    "data = range(0,110,10) # Create an array that starts at 0 and ends at 100, with an increment of 10 ... thus 11 elements\n",
    "print (\"Number of elements in the array = %d\" % len(data) )\n",
    "plt.plot(data) # X-axis starts at 0 and ends at 10"
   ]
  },
  {
   "cell_type": "markdown",
   "metadata": {},
   "source": [
    "### Now, create a more general figure in `matplotlib`. A *figure* consists of a `figure` and one or more `axes`. The terminology takes a bit of getting used to as `axes` are not the same thing as an x- and y-axis. Instead, think of `axes` as one distinct *graph* on a *canvas* represented by `figure`.\n",
    "#### References: \n",
    "1. Anatomy of a figure: https://matplotlib.org/gallery/showcase/anatomy.html\n",
    "2. Info regarding fig,ax = plt.subplots() : https://stackoverflow.com/questions/34162443/why-do-many-examples-use-fig-ax-plt-subplots-in-matplotlib-pyplot-python"
   ]
  },
  {
   "cell_type": "markdown",
   "metadata": {},
   "source": [
    "### First, define one `figure` object and one `axes` object. We define them by calling the appropriate methods in `matplotlib.pyplot`.\n",
    "#### Define our single `axes` object by using the `add_subplot` method which essentially creates a `subplot` which is a 1x1 array of individual `axes` ... i.e. just one `axes` per figure."
   ]
  },
  {
   "cell_type": "code",
   "execution_count": null,
   "metadata": {},
   "outputs": [],
   "source": [
    "fig = plt.figure()\n",
    "ax = fig.add_subplot(1,1,1)\n",
    "plt.xlabel ('Time (hr)')\n",
    "plt.ylabel ('Position (km)')\n",
    "ax.plot (time, position)"
   ]
  },
  {
   "cell_type": "markdown",
   "metadata": {},
   "source": [
    "### Instead of creating a default `figure` object, customize it. One of the most typical ways to customize it is to define its size. We pass in a `tuple` (basically, an immutable, or unchangeable, `list`) with the figure's horizontal and vertical dimensions, in inches."
   ]
  },
  {
   "cell_type": "code",
   "execution_count": null,
   "metadata": {},
   "outputs": [],
   "source": [
    "fig = plt.figure(figsize=(11,8.5)) # would fill a standard letter-size sheet of paper\n",
    "ax = fig.add_subplot(1,1,1)\n",
    "plt.xlabel ('Time (hr)')\n",
    "plt.ylabel ('Position (km)')\n",
    "ax.plot (time, position)"
   ]
  },
  {
   "cell_type": "markdown",
   "metadata": {},
   "source": [
    "### Matplotlib has an impressive set of methods and attributes to customize your plots so they are visually informative as well as appealing.\n",
    "#### Reference: Matplotlib Pyplot Plot method, with documentation of markers, lines, and colors: https://matplotlib.org/api/_as_gen/matplotlib.pyplot.plot.html\n"
   ]
  },
  {
   "cell_type": "code",
   "execution_count": null,
   "metadata": {},
   "outputs": [],
   "source": [
    "fig = plt.figure(figsize=(11,8.5)) # would fill a standard letter-size sheet of paper\n",
    "ax = fig.add_subplot(1,1,1)\n",
    "plt.xlabel ('Time (hr)')\n",
    "plt.ylabel ('Position (km)')\n",
    "ax.plot (time, position,'g+') # Plot each point on the curve using green + markers"
   ]
  },
  {
   "cell_type": "markdown",
   "metadata": {},
   "source": [
    "### Next, create a figure with two `axes`. "
   ]
  },
  {
   "cell_type": "markdown",
   "metadata": {},
   "source": [
    "### Following https://matplotlib.org/api/_as_gen/matplotlib.figure.Figure.html#matplotlib.figure.Figure.add_subplot,"
   ]
  },
  {
   "cell_type": "markdown",
   "metadata": {},
   "source": [
    "### `add_subplot` can take \"either a 3-digit integer or three separate integers describing the position of the subplot. If the three integers are nrows, ncols, and index in order, the subplot will take the index position on a grid with nrows rows and ncols columns. index starts at 1 in the upper left corner and increases to the right.\"\n",
    "### Thus, `subplot 2,2,1` would create a 2x2 matrix of axes and fix the current axes to the top-left one."
   ]
  },
  {
   "cell_type": "code",
   "execution_count": null,
   "metadata": {},
   "outputs": [],
   "source": [
    "position2 = [1,8,64,256]"
   ]
  },
  {
   "cell_type": "code",
   "execution_count": null,
   "metadata": {},
   "outputs": [],
   "source": [
    "fig = plt.figure(figsize=(11,8.5))\n",
    "ax1 = fig.add_subplot(1,2,1) # Left-hand side axes\n",
    "plt.xlabel ('Time (hr)')\n",
    "plt.ylabel ('Position (km)')\n",
    "\n",
    "ax2 = fig.add_subplot(1,2,2) # Right-hand side axes\n",
    "\n",
    "ax1.plot (time, position)\n",
    "ax2.plot (time,position2)\n"
   ]
  },
  {
   "cell_type": "markdown",
   "metadata": {},
   "source": [
    "### Notice that we only get axis labels on the left-most `axes`. If we move the `plt.xlabel` and `plt.ylabel` lines after the second `axes` is defined, we get the reverse problem"
   ]
  },
  {
   "cell_type": "code",
   "execution_count": null,
   "metadata": {},
   "outputs": [],
   "source": [
    "fig = plt.figure(figsize=(11,8.5))\n",
    "ax1 = fig.add_subplot(1,2,1) # Left-hand side axes\n",
    "ax2 = fig.add_subplot(1,2,2) # Right-hand side axes\n",
    "plt.xlabel ('Time (hr)')\n",
    "plt.ylabel ('Position (km)')\n",
    "\n",
    "ax1.plot (time, position)\n",
    "ax2.plot (time,position2)\n"
   ]
  },
  {
   "cell_type": "markdown",
   "metadata": {},
   "source": [
    "### A better way is to label attributes on the `axes` themselves rather than using the generic `matplotlib.pyplot.plt` method. Here, we use the `axes.set_xlimit` and `axes.set_ylimit` methods."
   ]
  },
  {
   "cell_type": "code",
   "execution_count": null,
   "metadata": {},
   "outputs": [],
   "source": [
    "fig = plt.figure(figsize=(11,8.5))\n",
    "ax1 = fig.add_subplot(1,2,1) # Left-hand side axes\n",
    "\n",
    "ax1.set_xlabel ('Time (hr)')\n",
    "ax1.set_ylabel ('Position (km)')\n",
    "\n",
    "ax1.plot (time, position)\n",
    "\n",
    "ax2 = fig.add_subplot(1,2,2) # Right-hand side axes\n",
    "\n",
    "ax2.set_xlabel ('Time (hr)')\n",
    "ax2.set_ylabel ('Position (km)')\n",
    "\n",
    "ax2.plot (time,position2)\n"
   ]
  },
  {
   "cell_type": "markdown",
   "metadata": {},
   "source": [
    "### Note that the y-axes don't match up. Re-do the cell above but add in the `sharex` and `sharey` options to `add_subplot` ."
   ]
  },
  {
   "cell_type": "code",
   "execution_count": null,
   "metadata": {},
   "outputs": [],
   "source": [
    "fig = plt.figure(figsize=(11,8.5))\n",
    "ax1 = fig.add_subplot(1,2,1) # Left-hand side axes\n",
    "\n",
    "ax1.set_xlabel ('Time (hr)')\n",
    "ax1.set_ylabel ('Position (km)')\n",
    "\n",
    "ax1.plot (time, position)\n",
    "\n",
    "ax2 = fig.add_subplot(1,2,2,sharex=ax1, sharey=ax1) # Right-hand side axes\n",
    "\n",
    "ax2.set_xlabel ('Time (hr)')\n",
    "ax2.set_ylabel ('Position (km)')\n",
    "\n",
    "ax2.plot (time,position2)\n"
   ]
  },
  {
   "cell_type": "markdown",
   "metadata": {},
   "source": [
    "### Matplotlib's Pyplot package has many other plot types besides fitting points to a curve. They include histograms, pie charts, contours, and even more esoteric ones such as violin plots. The **Matplotlib Gallery** shows how to create all of these, and each example can be downloaded as a Jupyter notebook! https://matplotlib.org/3.2.2/tutorials/introductory/sample_plots.html \n"
   ]
  },
  {
   "cell_type": "markdown",
   "metadata": {},
   "source": [
    "### Additional references:\n",
    "1. http://swcarpentry.github.io/python-novice-gapminder/09-plotting/index.html \n",
    "2. Ch. 9 in Wes McKinney's <a href=\"https://www.oreilly.com/library/view/python-for-data/9781491957653/\">Python for Data Analysis, 2nd Edition</a>\n",
    "3. Corey Schafer's Matplotlib Tutorials on YouTube: https://www.youtube.com/playlist?list=PL-osiE80TeTvipOqomVEeZ1HRrcEvtZB_ "
   ]
  }
 ],
 "metadata": {
  "kernelspec": {
   "display_name": "Python 3 June 2020 Environment",
   "language": "python",
   "name": "jun20"
  },
  "language_info": {
   "codemirror_mode": {
    "name": "ipython",
    "version": 3
   },
   "file_extension": ".py",
   "mimetype": "text/x-python",
   "name": "python",
   "nbconvert_exporter": "python",
   "pygments_lexer": "ipython3",
   "version": "3.7.6"
  }
 },
 "nbformat": 4,
 "nbformat_minor": 2
}
