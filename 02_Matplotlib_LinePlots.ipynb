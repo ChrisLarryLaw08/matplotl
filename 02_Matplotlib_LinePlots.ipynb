{
 "cells": [
  {
   "cell_type": "markdown",
   "metadata": {},
   "source": [
    "## 02_Matplotlib_LinePlots\n",
    "\n",
    "#### Now, let's load in some actual weather data, that exist in the form of files containing tabular data. We will use the `pandas` package to open these files."
   ]
  },
  {
   "cell_type": "code",
   "execution_count": null,
   "metadata": {},
   "outputs": [],
   "source": [
    "import matplotlib.pyplot as plt\n",
    "import numpy as np\n",
    "import pandas as pd"
   ]
  },
  {
   "cell_type": "code",
   "execution_count": null,
   "metadata": {},
   "outputs": [],
   "source": [
    "# Make plots appear in the cell where they are executed\n",
    "%matplotlib inline"
   ]
  },
  {
   "cell_type": "code",
   "execution_count": null,
   "metadata": {},
   "outputs": [],
   "source": [
    "# Create dataframe objects that point to the following csv files.\n",
    "\n",
    "ddcFile = '/spare11/atm533/data/ddc.csv'\n",
    "denFile = '/spare11/atm533/data/den.csv'\n",
    "fcsFile = '/spare11/atm533/data/fcs.csv'\n",
    "okcFile = '/spare11/atm533/data/okc.csv'\n",
    "\n",
    "ddcData = pd.read_fwf(ddcFile)\n",
    "denData = pd.read_fwf(denFile)\n",
    "fcsData = pd.read_fwf(fcsFile)\n",
    "okcData = pd.read_fwf(okcFile)\n"
   ]
  },
  {
   "cell_type": "markdown",
   "metadata": {},
   "source": [
    "### Let's take a peak at what one of these DataFrames look like (much more on that when we start the Pandas lessons)"
   ]
  },
  {
   "cell_type": "code",
   "execution_count": null,
   "metadata": {},
   "outputs": [],
   "source": [
    "ddcData"
   ]
  },
  {
   "cell_type": "markdown",
   "metadata": {},
   "source": [
    "### Create an array object that corresponds to the hours. "
   ]
  },
  {
   "cell_type": "code",
   "execution_count": null,
   "metadata": {},
   "outputs": [],
   "source": [
    "hours = ddcData.index.values\n",
    "hours"
   ]
  },
  {
   "cell_type": "markdown",
   "metadata": {},
   "source": [
    "### Read in hourly temperatures for these four cities."
   ]
  },
  {
   "cell_type": "code",
   "execution_count": null,
   "metadata": {},
   "outputs": [],
   "source": [
    "ddcTemp = ddcData.TMPC\n",
    "denTemp = denData.TMPC\n",
    "fcsTemp = fcsData.TMPC\n",
    "okcTemp = okcData.TMPC"
   ]
  },
  {
   "cell_type": "markdown",
   "metadata": {},
   "source": [
    "### Read in hourly dewpoint for these four cities."
   ]
  },
  {
   "cell_type": "code",
   "execution_count": null,
   "metadata": {},
   "outputs": [],
   "source": [
    "ddcDwpt = ddcData.DWPC\n",
    "denDwpt = denData.DWPC\n",
    "fcsDwpt = fcsData.DWPC\n",
    "okcDwpt = okcData.DWPC"
   ]
  },
  {
   "cell_type": "markdown",
   "metadata": {},
   "source": [
    "## Now, let's make a single-`axes` plot of Denver's max temperature data."
   ]
  },
  {
   "cell_type": "code",
   "execution_count": null,
   "metadata": {},
   "outputs": [],
   "source": [
    "fig = plt.figure(figsize=(11,8.5))\n",
    "ax = fig.add_subplot(1,1,1) # Left-hand side axes\n",
    "ax.set_xlabel ('Hour (UTC)')\n",
    "ax.set_ylabel ('Temperature ($^\\circ$C)')\n",
    "ax.set_title (\"Denver Hourly Temperatures, 8 Sep 2020\")\n",
    "ax.plot (denTemp)"
   ]
  },
  {
   "cell_type": "markdown",
   "metadata": {},
   "source": [
    "### Conveniently, the hours in the data files start at 0 and go up to 23, so there is no need to pass in an array for the x-axis. However, that usually will not be the case.  Let's say we wish to plot only the period between 0200 and 0800 UTC."
   ]
  },
  {
   "cell_type": "markdown",
   "metadata": {},
   "source": [
    "### First, we'll create an array using Numpy's `arange` method whose first element is 2 and last is 8."
   ]
  },
  {
   "cell_type": "code",
   "execution_count": null,
   "metadata": {},
   "outputs": [],
   "source": [
    "import numpy as np\n",
    "hoursSub = np.arange(2,9) # Note that arange goes up to, but does not include, 9"
   ]
  },
  {
   "cell_type": "code",
   "execution_count": null,
   "metadata": {},
   "outputs": [],
   "source": [
    "fig = plt.figure(figsize=(11,8.5))\n",
    "ax = fig.add_subplot(1,1,1) # Left-hand side axes\n",
    "ax.set_xlabel ('Hour (UTC)')\n",
    "ax.set_ylabel ('Temperature ($^\\circ$C)')\n",
    "ax.set_title (\"Denver Hourly Temperatures, 8 Sep 2020\")\n",
    "ax.plot (hoursSub, denTemp[2:9])"
   ]
  },
  {
   "cell_type": "markdown",
   "metadata": {},
   "source": [
    "### We'll illustrate several ways of customizing the look of our time series trace. \n",
    "#### For more info, see https://matplotlib.org/api/_as_gen/matplotlib.pyplot.plot.html (scroll down to \"Notes: Format Strings\" to see the full list of markers, line styles, and colors!)"
   ]
  },
  {
   "cell_type": "code",
   "execution_count": null,
   "metadata": {},
   "outputs": [],
   "source": [
    "fig = plt.figure(figsize=(11,8.5))\n",
    "ax = fig.add_subplot(1,1,1) # Left-hand side axes\n",
    "ax.set_xlabel ('Hour (UTC)')\n",
    "ax.set_ylabel ('Temperature ($^\\circ$C)')\n",
    "ax.set_title (\"Denver Hourly Temperatures, 8 Sep 2020\")\n",
    "ax.plot (hours, denTemp,'--') #dashes"
   ]
  },
  {
   "cell_type": "code",
   "execution_count": null,
   "metadata": {},
   "outputs": [],
   "source": [
    "fig = plt.figure(figsize=(11,8.5))\n",
    "ax = fig.add_subplot(1,1,1) # Left-hand side axes\n",
    "ax.set_xlabel ('Hour (UTC)')\n",
    "ax.set_ylabel ('Temperature ($^\\circ$C)')\n",
    "ax.set_title (\"Denver Hourly Temperatures, 8 Sep 2020\")\n",
    "ax.plot (hours, denTemp,'+') #plus symbols"
   ]
  },
  {
   "cell_type": "code",
   "execution_count": null,
   "metadata": {},
   "outputs": [],
   "source": [
    "fig = plt.figure(figsize=(11,8.5))\n",
    "ax = fig.add_subplot(1,1,1) # Left-hand side axes\n",
    "ax.set_xlabel ('Hour (UTC)')\n",
    "ax.set_ylabel ('Temperature ($^\\circ$C)')\n",
    "ax.set_title (\"Denver Hourly Temperatures, 8 Sep 2020\")\n",
    "ax.plot (hours, denTemp,'o') #dots"
   ]
  },
  {
   "cell_type": "code",
   "execution_count": null,
   "metadata": {},
   "outputs": [],
   "source": [
    "fig = plt.figure(figsize=(11,8.5))\n",
    "ax = fig.add_subplot(1,1,1) # Left-hand side axes\n",
    "ax.set_xlabel ('Hour (UTC)')\n",
    "ax.set_ylabel ('Temperature ($^\\circ$C)')\n",
    "ax.set_title (\"Denver Hourly Temperatures, 8 Sep 2020\")\n",
    "ax.plot (hours, denTemp,'go') # green dots"
   ]
  },
  {
   "cell_type": "markdown",
   "metadata": {},
   "source": [
    "### Let's pretty things up by choosing a particular *style* available to Pyplot. \n",
    "#### See https://matplotlib.org/tutorials/introductory/customizing.html "
   ]
  },
  {
   "cell_type": "code",
   "execution_count": null,
   "metadata": {},
   "outputs": [],
   "source": [
    "plt.style.use(\"seaborn\")"
   ]
  },
  {
   "cell_type": "code",
   "execution_count": null,
   "metadata": {},
   "outputs": [],
   "source": [
    "fig = plt.figure(figsize=(11,8.5))\n",
    "ax = fig.add_subplot(1,1,1) # Left-hand side axes\n",
    "ax.set_xlabel ('Hour (UTC)')\n",
    "ax.set_ylabel ('Temperature ($^\\circ$C)')\n",
    "ax.set_title (\"Denver Hourly Temperatures, 8 Sep 2020\")\n",
    "ax.plot (hours, denTemp,'o') #dots"
   ]
  },
  {
   "cell_type": "markdown",
   "metadata": {},
   "source": [
    "### Now let's plot temperature and dewpoint in the same plot, and add an informative legend.\n"
   ]
  },
  {
   "cell_type": "code",
   "execution_count": null,
   "metadata": {},
   "outputs": [],
   "source": [
    "fig = plt.figure(figsize=(11,8.5))\n",
    "ax = fig.add_subplot(1,1,1)\n",
    "ax.set_xlabel ('Hour (UTC)')\n",
    "ax.set_ylabel ('Temperature ($^\\circ$C)')\n",
    "ax.set_title (\"Denver Hourly T and Td, 8 Sep 2020\") # Note we adjust the title\n",
    "ax.plot (hours, denTemp, label = \"Temperature\")\n",
    "ax.plot (hours, denDwpt, label = \"Dewpoint\")\n",
    "ax.legend(loc='best')"
   ]
  },
  {
   "cell_type": "markdown",
   "metadata": {},
   "source": [
    "### Your turn! To compare conditions in Dodge City, KS (DDC) as compared to Denver, make a plot similar to the T/Td plot, but use DDC's temperature for the second trace. Pay attention to the legend label and plot title!\n"
   ]
  },
  {
   "cell_type": "code",
   "execution_count": null,
   "metadata": {},
   "outputs": [],
   "source": [
    "# Write your code here. To reveal the solution, AFTER you have worked on it yourself, \n",
    "# uncomment the line below so the line starts with the % symbol, then execute it."
   ]
  },
  {
   "cell_type": "code",
   "execution_count": null,
   "metadata": {},
   "outputs": [],
   "source": [
    "# %load /spare11/atm533/common/week3/02a.py"
   ]
  },
  {
   "cell_type": "markdown",
   "metadata": {},
   "source": [
    "## Next step: make a `Figure` with four `axes`, oriented 2x2. One city's data per `axes`. Just plot maximum temperature for now.\n",
    "### Note that we can pass in `days` as our x-array for all four sites, since that array is the same for all."
   ]
  },
  {
   "cell_type": "code",
   "execution_count": null,
   "metadata": {},
   "outputs": [],
   "source": [
    "fig = plt.figure(figsize=(11,8.5))\n",
    "ax1 = fig.add_subplot(2,2,1) \n",
    "ax1.set_xlabel ('Hour (UTC)')\n",
    "ax1.set_ylabel ('Temperature ($^\\circ$C)')\n",
    "ax1.set_title (\"Ft. Collins Hourly Temperature, 8 Sep 2020\")\n",
    "ax1.plot (hours, fcsTemp,color='red', label='Temperature')\n",
    "ax1.legend(loc=\"best\")\n",
    "\n",
    "ax2 = fig.add_subplot(2,2,2) \n",
    "ax2.set_xlabel ('Hour (UTC)')\n",
    "ax2.set_ylabel ('Temperature ($^\\circ$C)')\n",
    "ax2.set_title (\"Denver Hourly Temperature, 8 Sep 2020\")\n",
    "ax2.plot (hours, denTemp,color='red', label='Temperature')\n",
    "ax2.legend(loc=\"best\")\n",
    "\n",
    "ax3 = fig.add_subplot(2,2,3) \n",
    "ax3.set_xlabel ('Hour (UTC)')\n",
    "ax3.set_ylabel ('Temperature ($^\\circ$C)')\n",
    "ax3.set_title (\"Dodge City Hourly Temperature, 8 Sep 2020\")\n",
    "ax3.plot (hours, ddcTemp,color='red', label='Temperature')\n",
    "ax3.legend(loc=\"best\")\n",
    "\n",
    "ax4 = fig.add_subplot(2,2,4) \n",
    "ax4.set_xlabel ('Hour (UTC)')\n",
    "ax4.set_ylabel ('Temperature ($^\\circ$C)')\n",
    "ax4.set_title (\"Oklahoma City Hourly Temperature, 8 Sep 2020\")\n",
    "ax4.plot (hours, okcTemp,color='red', label='Temperature')\n",
    "ax4.legend(loc=\"best\")\n",
    "\n"
   ]
  },
  {
   "cell_type": "markdown",
   "metadata": {},
   "source": [
    "### Take a moment to think: Can you name a couple things about this figure that are less than ideal? How might you fix them? Then uncomment the line below to reveal the first part of the remedy."
   ]
  },
  {
   "cell_type": "code",
   "execution_count": null,
   "metadata": {},
   "outputs": [],
   "source": [
    "# %load /spare11/atm533/common/week3/02b.py"
   ]
  },
  {
   "cell_type": "markdown",
   "metadata": {},
   "source": [
    "### A second problem is that the y-axis varies in each plot, as the default is to assign its bounds based on the range of values in the ordinate array. A good strategy might be to share the y-axis between all four plots, and manually set the range of the y-axis for the first subplot (`ax1`) and then share it with our other three subplots (`ax2`, `ax3`, `ax4`)."
   ]
  },
  {
   "cell_type": "code",
   "execution_count": null,
   "metadata": {},
   "outputs": [],
   "source": [
    "plt.tight_layout()\n",
    "fig = plt.figure(figsize=(15,12))\n",
    "\n",
    "ax1 = fig.add_subplot(2,2,1)\n",
    "ax1.set_ylim(ymin=-5,ymax=35)\n",
    "ax1.set_xlabel ('Hour (UTC)')\n",
    "ax1.set_ylabel ('Temperature ($^\\circ$C)')\n",
    "ax1.set_title (\"Ft. Collins Hourly Temperature, 8 Sep 2020\")\n",
    "ax1.plot (hours, fcsTemp,color='red', label='Temperature')\n",
    "ax1.legend(loc=\"best\")\n",
    "\n",
    "ax2 = fig.add_subplot(2,2,2,sharey = ax1) \n",
    "ax2.set_xlabel ('Hour (UTC)')\n",
    "ax2.set_ylabel ('Temperature ($^\\circ$C)')\n",
    "ax2.set_title (\"Denver Hourly Temperature, 8 Sep 2020\")\n",
    "ax2.plot (hours, denTemp,color='red', label='Temperature')\n",
    "ax2.legend(loc=\"best\")\n",
    "\n",
    "ax3 = fig.add_subplot(2,2,3, sharey = ax1) \n",
    "ax3.set_xlabel ('Hour (UTC)')\n",
    "ax3.set_ylabel ('Temperature ($^\\circ$C)')\n",
    "ax3.set_title (\"Dodge City Hourly Temperature, 8 Sep 2020\")\n",
    "ax3.plot (hours, ddcTemp,color='red', label='Temperature')\n",
    "ax3.legend(loc=\"best\")\n",
    "\n",
    "ax4 = fig.add_subplot(2,2,4, sharey = ax1) \n",
    "ax4.set_xlabel ('Hour (UTC)')\n",
    "ax4.set_ylabel ('Temperature ($^\\circ$C)')\n",
    "ax4.set_title (\"Oklahoma City Hourly Temperature, 8 Sep 2020\")\n",
    "ax4.plot (hours, okcTemp,color='red', label='Temperature')\n",
    "ax4.legend(loc=\"best\")\n",
    "\n"
   ]
  },
  {
   "cell_type": "markdown",
   "metadata": {},
   "source": [
    "### Exercise: next, add the dewpoint traces to each of the four plots!"
   ]
  },
  {
   "cell_type": "code",
   "execution_count": null,
   "metadata": {},
   "outputs": [],
   "source": [
    "# Write your code here before reveailing the solution in the cell below."
   ]
  },
  {
   "cell_type": "code",
   "execution_count": null,
   "metadata": {},
   "outputs": [],
   "source": [
    "# %load /spare11/atm533/common/week3/02c.py"
   ]
  },
  {
   "cell_type": "markdown",
   "metadata": {},
   "source": [
    "### Once you have generated this last figure, save it to your current directory."
   ]
  },
  {
   "cell_type": "code",
   "execution_count": null,
   "metadata": {},
   "outputs": [],
   "source": [
    "fig.savefig('TempDwpt_20200908.png')"
   ]
  }
 ],
 "metadata": {
  "kernelspec": {
   "display_name": "Python 3 June 2020 Environment",
   "language": "python",
   "name": "jun20"
  },
  "language_info": {
   "codemirror_mode": {
    "name": "ipython",
    "version": 3
   },
   "file_extension": ".py",
   "mimetype": "text/x-python",
   "name": "python",
   "nbconvert_exporter": "python",
   "pygments_lexer": "ipython3",
   "version": "3.7.6"
  }
 },
 "nbformat": 4,
 "nbformat_minor": 2
}
