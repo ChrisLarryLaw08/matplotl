{
 "cells": [
  {
   "cell_type": "code",
   "execution_count": null,
   "metadata": {},
   "outputs": [],
   "source": [
    "%matplotlib inline"
   ]
  },
  {
   "cell_type": "markdown",
   "metadata": {},
   "source": [
    "\n",
    "# Streamplot\n",
    "\n",
    "\n",
    "A stream plot, or streamline plot, is used to display 2D vector fields. This\n",
    "example shows a few features of the :meth:`~.axes.Axes.streamplot` function:\n",
    "\n",
    "* Varying the color along a streamline.\n",
    "* Varying the density of streamlines.\n",
    "* Varying the line width along a streamline.\n",
    "* Controlling the starting points of streamlines.\n",
    "* Streamlines skipping masked regions and NaN values.\n"
   ]
  },
  {
   "cell_type": "code",
   "execution_count": null,
   "metadata": {},
   "outputs": [],
   "source": [
    "import numpy as np\n",
    "import matplotlib.pyplot as plt\n",
    "import matplotlib.gridspec as gridspec\n",
    "\n",
    "w = 3\n",
    "Y, X = np.mgrid[-w:w:100j, -w:w:100j]\n",
    "U = -1 - X**2 + Y\n",
    "V = 1 + X - Y**2\n",
    "speed = np.sqrt(U**2 + V**2)\n",
    "\n",
    "fig = plt.figure(figsize=(7, 9))\n",
    "gs = gridspec.GridSpec(nrows=3, ncols=2, height_ratios=[1, 1, 2])\n",
    "\n",
    "#  Varying density along a streamline\n",
    "ax0 = fig.add_subplot(gs[0, 0])\n",
    "ax0.streamplot(X, Y, U, V, density=[0.5, 1])\n",
    "ax0.set_title('Varying Density')\n",
    "\n",
    "# Varying color along a streamline\n",
    "ax1 = fig.add_subplot(gs[0, 1])\n",
    "strm = ax1.streamplot(X, Y, U, V, color=U, linewidth=2, cmap='autumn')\n",
    "fig.colorbar(strm.lines)\n",
    "ax1.set_title('Varying Color')\n",
    "\n",
    "#  Varying line width along a streamline\n",
    "ax2 = fig.add_subplot(gs[1, 0])\n",
    "lw = 5*speed / speed.max()\n",
    "ax2.streamplot(X, Y, U, V, density=0.6, color='k', linewidth=lw)\n",
    "ax2.set_title('Varying Line Width')\n",
    "\n",
    "# Controlling the starting points of the streamlines\n",
    "seed_points = np.array([[-2, -1, 0, 1, 2, -1], [-2, -1,  0, 1, 2, 2]])\n",
    "\n",
    "ax3 = fig.add_subplot(gs[1, 1])\n",
    "strm = ax3.streamplot(X, Y, U, V, color=U, linewidth=2,\n",
    "                     cmap='autumn', start_points=seed_points.T)\n",
    "fig.colorbar(strm.lines)\n",
    "ax3.set_title('Controlling Starting Points')\n",
    "\n",
    "# Displaying the starting points with blue symbols.\n",
    "ax3.plot(seed_points[0], seed_points[1], 'bo')\n",
    "ax3.set(xlim=(-w, w), ylim=(-w, w))\n",
    "\n",
    "# Create a mask\n",
    "mask = np.zeros(U.shape, dtype=bool)\n",
    "mask[40:60, 40:60] = True\n",
    "U[:20, :20] = np.nan\n",
    "U = np.ma.array(U, mask=mask)\n",
    "\n",
    "ax4 = fig.add_subplot(gs[2:, :])\n",
    "ax4.streamplot(X, Y, U, V, color='r')\n",
    "ax4.set_title('Streamplot with Masking')\n",
    "\n",
    "ax4.imshow(~mask, extent=(-w, w, -w, w), alpha=0.5,\n",
    "          interpolation='nearest', cmap='gray', aspect='auto')\n",
    "ax4.set_aspect('equal')\n",
    "\n",
    "plt.tight_layout()\n",
    "plt.show()"
   ]
  },
  {
   "cell_type": "markdown",
   "metadata": {},
   "source": [
    "------------\n",
    "\n",
    "References\n",
    "\"\"\"\"\"\"\"\"\"\"\n",
    "\n",
    "The use of the following functions and methods is shown in this example:\n",
    "\n"
   ]
  },
  {
   "cell_type": "code",
   "execution_count": null,
   "metadata": {},
   "outputs": [],
   "source": [
    "import matplotlib\n",
    "matplotlib.axes.Axes.streamplot\n",
    "matplotlib.pyplot.streamplot\n",
    "matplotlib.gridspec\n",
    "matplotlib.gridspec.GridSpec"
   ]
  },
  {
   "cell_type": "code",
   "execution_count": null,
   "metadata": {},
   "outputs": [],
   "source": []
  }
 ],
 "metadata": {
  "kernelspec": {
   "display_name": "Python 3",
   "language": "python",
   "name": "python3"
  },
  "language_info": {
   "codemirror_mode": {
    "name": "ipython",
    "version": 3
   },
   "file_extension": ".py",
   "mimetype": "text/x-python",
   "name": "python",
   "nbconvert_exporter": "python",
   "pygments_lexer": "ipython3",
   "version": "3.7.6"
  }
 },
 "nbformat": 4,
 "nbformat_minor": 1
}
